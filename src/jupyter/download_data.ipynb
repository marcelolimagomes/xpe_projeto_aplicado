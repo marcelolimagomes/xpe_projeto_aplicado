{
 "cells": [
  {
   "cell_type": "code",
   "execution_count": null,
   "metadata": {},
   "outputs": [],
   "source": [
    "# Path para diretório raiz do projeto\n",
    "import sys\n",
    "sys.path.insert(0, sys.path[0].removesuffix(\"/src/jupyter\"))\n",
    "# Libs do projeto\n",
    "import src.utils as utils\n",
    "import yfinance as yf\n",
    "from datetime import datetime, timedelta"
   ]
  },
  {
   "cell_type": "code",
   "execution_count": null,
   "metadata": {},
   "outputs": [],
   "source": [
    "df_tickers = utils.get_tickers_b3()\n",
    "df_tickers"
   ]
  },
  {
   "cell_type": "code",
   "execution_count": null,
   "metadata": {},
   "outputs": [],
   "source": [
    "# Exception('%ticker%: 1h data not available for startTime=1304341200 and endTime=1701373401. The requested range must be within the last 730 days.')\n",
    "start_date = (datetime.now() - timedelta(days=729)).strftime('%Y-%m-%d') \n",
    "print(f'Start Date: {start_date}')\n",
    "\n",
    "utils.download_data(df_tickers['ticker'].to_list(), start_date=None, type='stock')"
   ]
  },
  {
   "cell_type": "code",
   "execution_count": null,
   "metadata": {},
   "outputs": [],
   "source": [
    "df_tickers = utils.get_tickers_fiis()\t\n",
    "df_tickers"
   ]
  },
  {
   "cell_type": "code",
   "execution_count": null,
   "metadata": {},
   "outputs": [],
   "source": [
    "# Exception('%ticker%: 1h data not available for startTime=1304341200 and endTime=1701373401. The requested range must be within the last 730 days.')\n",
    "start_date = (datetime.now() - timedelta(days=729)).strftime('%Y-%m-%d') \n",
    "print(f'Start Date: {start_date}')\n",
    "\n",
    "utils.download_data(df_tickers['ticker'].to_list(), type='fii')"
   ]
  }
 ],
 "metadata": {
  "kernelspec": {
   "display_name": ".env",
   "language": "python",
   "name": "python3"
  },
  "language_info": {
   "codemirror_mode": {
    "name": "ipython",
    "version": 3
   },
   "file_extension": ".py",
   "mimetype": "text/x-python",
   "name": "python",
   "nbconvert_exporter": "python",
   "pygments_lexer": "ipython3",
   "version": "3.11.6"
  }
 },
 "nbformat": 4,
 "nbformat_minor": 2
}
