{
 "cells": [
  {
   "cell_type": "code",
   "execution_count": null,
   "metadata": {},
   "outputs": [],
   "source": [
    "# Path para diretório raiz do projeto\n",
    "import sys\n",
    "\n",
    "sys.path.insert(0, sys.path[0].removesuffix(\"/src/jupyter\"))\n",
    "# Libs do projeto\n",
    "import src.utils as utils\n",
    "import pandas as pd\n",
    "import numpy as np\n",
    "\n",
    "# All necessary plotly libraries\n",
    "import plotly as py\n",
    "import plotly.io as pio\n",
    "import plotly.graph_objects as go\n",
    "import plotly.express as px\n",
    "from plotly.subplots import make_subplots\n",
    "from plotly.offline import download_plotlyjs, init_notebook_mode, plot, iplot"
   ]
  },
  {
   "cell_type": "code",
   "execution_count": null,
   "metadata": {},
   "outputs": [],
   "source": [
    "data_file_list = utils.get_data_files()\n",
    "\n",
    "acoes_prob_cair = pd.DataFrame()\n",
    "acoes_prob_subir = pd.DataFrame()\n",
    "for data_file in data_file_list:\n",
    "    data = pd.read_csv(data_file, sep=\";\")\n",
    "    data.dropna(inplace=True)\n",
    "    if data.shape[0] > 0:\n",
    "        data[\"previsao\"] = \"ESTAVEL\"\n",
    "        data[\"previsao\"] = np.where(\n",
    "            (data[\"adj_close\"] > data[\"ema_close_200p\"]) & (data[\"rsi\"] > 70.0),\n",
    "            \"CAIR\",\n",
    "            data[\"previsao\"],\n",
    "        )\n",
    "        data[\"previsao\"] = np.where(\n",
    "            (data[\"adj_close\"] < data[\"ema_close_200p\"]) & (data[\"rsi\"] < 30.0),\n",
    "            \"SUBIR\",\n",
    "            data[\"previsao\"],\n",
    "        )\n",
    "        data.to_csv(data_file, sep=\";\", index=False)\n",
    "\n",
    "        if data.tail(1).previsao.values[0] == \"CAIR\":\n",
    "            acoes_prob_cair = pd.concat([acoes_prob_cair, data.tail(1)])\n",
    "        elif data.tail(1).previsao.values[0] == \"SUBIR\":\n",
    "            acoes_prob_subir = pd.concat([acoes_prob_subir, data.tail(1)])"
   ]
  },
  {
   "cell_type": "code",
   "execution_count": null,
   "metadata": {},
   "outputs": [],
   "source": [
    "print(f\"Ações Probabilidade Cair: \")\n",
    "acoes_prob_cair"
   ]
  },
  {
   "cell_type": "code",
   "execution_count": null,
   "metadata": {},
   "outputs": [],
   "source": [
    "print(f\"Ações Probabilidade Subir: \")\n",
    "acoes_prob_subir"
   ]
  },
  {
   "cell_type": "code",
   "execution_count": null,
   "metadata": {},
   "outputs": [],
   "source": [
    "filter_date = '\t2022-01-01'"
   ]
  },
  {
   "cell_type": "code",
   "execution_count": null,
   "metadata": {},
   "outputs": [],
   "source": [
    "print('Graficos Ações Probabilidade Subir')\n",
    "fig_list = []\n",
    "for ticker in acoes_prob_subir.ticker.unique():\n",
    "\tticker_type = data.tail().type.values[0]\n",
    "\ttitle = f'{ticker_type.upper()}: {ticker} - Probabilidade Subir'\n",
    "\tdata = pd.read_csv(f\"{utils.stocks_dir}/{ticker}.csv\", sep=\";\")\n",
    "\tdata = data[data['open_time'] >  filter_date]\n",
    "\tfig = make_subplots(rows=2, cols=1, row_heights=[0.7, 0.3], specs=[[{\"secondary_y\": True}], [{\"secondary_y\": True}]])\n",
    "\t\n",
    "\t# fig.add_trace(go.Candlestick(x=data['s_open_time'], open=data['open'], high=data['high'], low=data['low'], close=data['close'], name='Price'), row=1, col=1)\n",
    "\tfig.add_trace(go.Scatter(x=data['s_open_time'], y=data['close'], name='Close'), row=1, col=1)\n",
    "\tfig.add_trace(go.Scatter(x=data['s_open_time'], y=data['adj_close'], name='Adj Close'), row=1, col=1)\n",
    "\tfig.add_trace(go.Scatter(x=data['s_open_time'], y=data['ema_close_200p'], name='EMA Close 200p', line_shape='spline', line_smoothing=1.3), row=1, col=1)\n",
    "\tfig.add_trace(go.Scatter(x=data['s_open_time'], y=data['ema_adj_close_200p'], name='EMA Adj Close 200p', line_shape='spline', line_smoothing=1.3), row=1, col=1)\n",
    "\n",
    "\tfig.add_trace(go.Scatter(x=data['s_open_time'], y=data['rsi'], name='rsi', line_color='purple'), row=2, col=1, secondary_y=False)\n",
    "\tfig.add_trace(go.Bar(x=data['s_open_time'], y=data['volume'], name='volume', marker_color='red'), row=2, col=1, secondary_y=True)\n",
    "\t\n",
    "\tfig.add_hline(y=30, row=2, line_width=1, line_dash=\"dash\", line_color='black')\n",
    "\tfig.add_hline(y=70, row=2, line_width=1, line_dash=\"dash\", line_color='black')\n",
    "\tfig.add_hrect(y0=30, y1=70, line_width=0, fillcolor=\"blue\", opacity=0.1, row=2)\n",
    "\t\n",
    "\tfig.update_layout(title_text=title, height=800, )\n",
    "\tfig.update(layout_xaxis_rangeslider_visible=False)\n",
    "\tfig.update_xaxes(rangebreaks=[dict(bounds=[\"sat\", \"sun\"])])\n",
    "\n",
    "\tfig_list.append({'fig': fig, 'title': f'{title}' })\n",
    "\t\n",
    "\n",
    "for fig in fig_list:\n",
    "\tprint(fig['title'])\n",
    "\tfig['fig'].show()"
   ]
  },
  {
   "cell_type": "code",
   "execution_count": null,
   "metadata": {},
   "outputs": [],
   "source": [
    "print('Graficos Ações Probabilidade Cair')\n",
    "fig_list = []\n",
    "for ticker in acoes_prob_cair.ticker.unique():\n",
    "\tticker_type = data.tail().type.values[0]\n",
    "\ttitle = f'{ticker_type.upper()}: {ticker} - Probabilidade Cair'\n",
    "\tdata = pd.read_csv(f\"{utils.stocks_dir}/{ticker}.csv\", sep=\";\")\n",
    "\tdata = data[data['open_time'] > filter_date]\n",
    "\tfig = make_subplots(rows=2, cols=1, row_heights=[0.7, 0.3], specs=[[{\"secondary_y\": True}], [{\"secondary_y\": True}]])\n",
    "\t\n",
    "\t# fig.add_trace(go.Candlestick(x=data['s_open_time'], open=data['open'], high=data['high'], low=data['low'], close=data['close'], name='Price'), row=1, col=1)\n",
    "\tfig.add_trace(go.Scatter(x=data['s_open_time'], y=data['close'], name='Close'), row=1, col=1)\n",
    "\tfig.add_trace(go.Scatter(x=data['s_open_time'], y=data['adj_close'], name='Adj Close'), row=1, col=1)\n",
    "\tfig.add_trace(go.Scatter(x=data['s_open_time'], y=data['ema_close_200p'], name='EMA Close 200p', line_shape='spline', line_smoothing=1.3), row=1, col=1)\n",
    "\tfig.add_trace(go.Scatter(x=data['s_open_time'], y=data['ema_adj_close_200p'], name='EMA Adj Close 200p', line_shape='spline', line_smoothing=1.3), row=1, col=1)\n",
    "\n",
    "\tfig.add_trace(go.Scatter(x=data['s_open_time'], y=data['rsi'], name='rsi', line_color='purple'), row=2, col=1, secondary_y=False)\n",
    "\tfig.add_trace(go.Bar(x=data['s_open_time'], y=data['volume'], name='volume', marker_color='red'), row=2, col=1, secondary_y=True)\n",
    "\t\n",
    "\tfig.add_hline(y=30, row=2, line_width=1, line_dash=\"dash\", line_color='black')\n",
    "\tfig.add_hline(y=70, row=2, line_width=1, line_dash=\"dash\", line_color='black')\n",
    "\tfig.add_hrect(y0=30, y1=70, line_width=0, fillcolor=\"blue\", opacity=0.1, row=2)\n",
    "\t\n",
    "\tfig.update_layout(title_text=title, height=800, )\n",
    "\tfig.update(layout_xaxis_rangeslider_visible=False)\n",
    "\tfig.update_xaxes(rangebreaks=[dict(bounds=[\"sat\", \"sun\"])])\n",
    "\n",
    "\tfig_list.append({'fig': fig, 'title': f'{title}' })\n",
    "\t\n",
    "\n",
    "for fig in fig_list:\n",
    "\tprint(fig['title'])\n",
    "\tfig['fig'].show()"
   ]
  }
 ],
 "metadata": {
  "kernelspec": {
   "display_name": ".env",
   "language": "python",
   "name": "python3"
  },
  "language_info": {
   "codemirror_mode": {
    "name": "ipython",
    "version": 3
   },
   "file_extension": ".py",
   "mimetype": "text/x-python",
   "name": "python",
   "nbconvert_exporter": "python",
   "pygments_lexer": "ipython3",
   "version": "3.11.6"
  }
 },
 "nbformat": 4,
 "nbformat_minor": 2
}
