{
 "cells": [
  {
   "cell_type": "code",
   "execution_count": 1,
   "metadata": {},
   "outputs": [
    {
     "name": "stdout",
     "output_type": "stream",
     "text": [
      "['/home/marcelo/des/xpe_projeto_aplicado', '/home/marcelo/des/xpe_projeto_aplicado/src/jupyter', '/home/marcelo/anaconda3/envs/rapids-23.10/lib/python310.zip', '/home/marcelo/anaconda3/envs/rapids-23.10/lib/python3.10', '/home/marcelo/anaconda3/envs/rapids-23.10/lib/python3.10/lib-dynload', '', '/home/marcelo/anaconda3/envs/rapids-23.10/lib/python3.10/site-packages']\n"
     ]
    }
   ],
   "source": [
    "# Configura o path do projeto para consumir as libs do projeto\n",
    "# Path para diretório raiz do projeto\n",
    "import sys\n",
    "sys.path.insert(0, sys.path[0].removesuffix(\"/src/jupyter\"))\n",
    "print(sys.path)\n",
    "# Libs do projeto\n",
    "import yfinance as yf\n",
    "from datetime import datetime, timedelta\n",
    "import src.utils as utils\n",
    "\n",
    "## **** Jupyter Notebook responsável pelo Download dos Dados de histórico de cada Ticker (Ações ou FII's) ****"
   ]
  },
  {
   "cell_type": "code",
   "execution_count": 2,
   "metadata": {},
   "outputs": [
    {
     "data": {
      "text/html": [
       "<div>\n",
       "<style scoped>\n",
       "    .dataframe tbody tr th:only-of-type {\n",
       "        vertical-align: middle;\n",
       "    }\n",
       "\n",
       "    .dataframe tbody tr th {\n",
       "        vertical-align: top;\n",
       "    }\n",
       "\n",
       "    .dataframe thead th {\n",
       "        text-align: right;\n",
       "    }\n",
       "</style>\n",
       "<table border=\"1\" class=\"dataframe\">\n",
       "  <thead>\n",
       "    <tr style=\"text-align: right;\">\n",
       "      <th></th>\n",
       "      <th>ticker</th>\n",
       "    </tr>\n",
       "  </thead>\n",
       "  <tbody>\n",
       "    <tr>\n",
       "      <th>0</th>\n",
       "      <td>RRRP3.SA</td>\n",
       "    </tr>\n",
       "    <tr>\n",
       "      <th>1</th>\n",
       "      <td>ALPA4.SA</td>\n",
       "    </tr>\n",
       "    <tr>\n",
       "      <th>2</th>\n",
       "      <td>ABEV3.SA</td>\n",
       "    </tr>\n",
       "    <tr>\n",
       "      <th>3</th>\n",
       "      <td>AMER3.SA</td>\n",
       "    </tr>\n",
       "    <tr>\n",
       "      <th>4</th>\n",
       "      <td>ARZZ3.SA</td>\n",
       "    </tr>\n",
       "    <tr>\n",
       "      <th>...</th>\n",
       "      <td>...</td>\n",
       "    </tr>\n",
       "    <tr>\n",
       "      <th>84</th>\n",
       "      <td>VALE3.SA</td>\n",
       "    </tr>\n",
       "    <tr>\n",
       "      <th>85</th>\n",
       "      <td>VIIA3.SA</td>\n",
       "    </tr>\n",
       "    <tr>\n",
       "      <th>86</th>\n",
       "      <td>VBBR3.SA</td>\n",
       "    </tr>\n",
       "    <tr>\n",
       "      <th>87</th>\n",
       "      <td>WEGE3.SA</td>\n",
       "    </tr>\n",
       "    <tr>\n",
       "      <th>88</th>\n",
       "      <td>YDUQ3.SA</td>\n",
       "    </tr>\n",
       "  </tbody>\n",
       "</table>\n",
       "<p>89 rows × 1 columns</p>\n",
       "</div>"
      ],
      "text/plain": [
       "      ticker\n",
       "0   RRRP3.SA\n",
       "1   ALPA4.SA\n",
       "2   ABEV3.SA\n",
       "3   AMER3.SA\n",
       "4   ARZZ3.SA\n",
       "..       ...\n",
       "84  VALE3.SA\n",
       "85  VIIA3.SA\n",
       "86  VBBR3.SA\n",
       "87  WEGE3.SA\n",
       "88  YDUQ3.SA\n",
       "\n",
       "[89 rows x 1 columns]"
      ]
     },
     "execution_count": 2,
     "metadata": {},
     "output_type": "execute_result"
    }
   ],
   "source": [
    "# df_tickers = utils.get_tickers_b3() # Ações Listadas na B3 << Para se fazer a análise de todas as ações listadas na B3, remova esse comentário e comente a linha abaixo:\n",
    "df_tickers = utils.get_tickers_ibov() # Ações Listadas no indicador IBOV (Apenas os 90 tickers que compõem no IBOV)\n",
    "df_tickers"
   ]
  },
  {
   "cell_type": "code",
   "execution_count": 3,
   "metadata": {},
   "outputs": [
    {
     "name": "stdout",
     "output_type": "stream",
     "text": [
      "Start Date: 2022-02-27\n",
      "Downloading data para 89 tickers...\n",
      "Downloading data para o ticker: RRRP3.SA ==> Max date: None\n"
     ]
    },
    {
     "name": "stderr",
     "output_type": "stream",
     "text": [
      "[*********************100%%**********************]  1 of 1 completed\n"
     ]
    },
    {
     "name": "stdout",
     "output_type": "stream",
     "text": [
      "Downloaded data para o ticker: RRRP3.SA ==> Shape: (815, 9)\n",
      "Data saved to /home/marcelo/des/xpe_projeto_aplicado/data/stocks/RRRP3.SA.csv\n",
      "Downloading data para o ticker: ALPA4.SA ==> Max date: None\n"
     ]
    },
    {
     "name": "stderr",
     "output_type": "stream",
     "text": [
      "[*********************100%%**********************]  1 of 1 completed\n"
     ]
    },
    {
     "name": "stdout",
     "output_type": "stream",
     "text": [
      "Downloaded data para o ticker: ALPA4.SA ==> Shape: (4008, 9)\n",
      "Data saved to /home/marcelo/des/xpe_projeto_aplicado/data/stocks/ALPA4.SA.csv\n",
      "Downloading data para o ticker: ABEV3.SA ==> Max date: None\n"
     ]
    },
    {
     "name": "stderr",
     "output_type": "stream",
     "text": [
      "[*********************100%%**********************]  1 of 1 completed\n"
     ]
    },
    {
     "name": "stdout",
     "output_type": "stream",
     "text": [
      "Downloaded data para o ticker: ABEV3.SA ==> Shape: (6062, 9)\n",
      "Data saved to /home/marcelo/des/xpe_projeto_aplicado/data/stocks/ABEV3.SA.csv\n",
      "Downloading data para o ticker: AMER3.SA ==> Max date: None\n"
     ]
    },
    {
     "name": "stderr",
     "output_type": "stream",
     "text": [
      "[*********************100%%**********************]  1 of 1 completed\n"
     ]
    },
    {
     "name": "stdout",
     "output_type": "stream",
     "text": [
      "Downloaded data para o ticker: AMER3.SA ==> Shape: (4702, 9)\n",
      "Data saved to /home/marcelo/des/xpe_projeto_aplicado/data/stocks/AMER3.SA.csv\n",
      "Downloading data para o ticker: ARZZ3.SA ==> Max date: None\n"
     ]
    },
    {
     "name": "stderr",
     "output_type": "stream",
     "text": [
      "[*********************100%%**********************]  1 of 1 completed\n"
     ]
    },
    {
     "name": "stdout",
     "output_type": "stream",
     "text": [
      "Downloaded data para o ticker: ARZZ3.SA ==> Shape: (3243, 9)\n",
      "Data saved to /home/marcelo/des/xpe_projeto_aplicado/data/stocks/ARZZ3.SA.csv\n",
      "Downloading data para o ticker: ASAI3.SA ==> Max date: None\n"
     ]
    },
    {
     "name": "stderr",
     "output_type": "stream",
     "text": [
      "[*********************100%%**********************]  1 of 1 completed\n"
     ]
    },
    {
     "name": "stdout",
     "output_type": "stream",
     "text": [
      "Downloaded data para o ticker: ASAI3.SA ==> Shape: (746, 9)\n",
      "Data saved to /home/marcelo/des/xpe_projeto_aplicado/data/stocks/ASAI3.SA.csv\n",
      "Downloading data para o ticker: AZUL4.SA ==> Max date: None\n"
     ]
    },
    {
     "name": "stderr",
     "output_type": "stream",
     "text": [
      "[*********************100%%**********************]  1 of 1 completed\n"
     ]
    },
    {
     "name": "stdout",
     "output_type": "stream",
     "text": [
      "Downloaded data para o ticker: AZUL4.SA ==> Shape: (1711, 9)\n",
      "Data saved to /home/marcelo/des/xpe_projeto_aplicado/data/stocks/AZUL4.SA.csv\n",
      "Downloading data para o ticker: B3SA3.SA ==> Max date: None\n"
     ]
    },
    {
     "name": "stderr",
     "output_type": "stream",
     "text": [
      "[*********************100%%**********************]  1 of 1 completed\n"
     ]
    },
    {
     "name": "stdout",
     "output_type": "stream",
     "text": [
      "Downloaded data para o ticker: B3SA3.SA ==> Shape: (4047, 9)\n",
      "Data saved to /home/marcelo/des/xpe_projeto_aplicado/data/stocks/B3SA3.SA.csv\n",
      "Downloading data para o ticker: BPAN4.SA ==> Max date: None\n"
     ]
    },
    {
     "name": "stderr",
     "output_type": "stream",
     "text": [
      "[*********************100%%**********************]  1 of 1 completed\n"
     ]
    },
    {
     "name": "stdout",
     "output_type": "stream",
     "text": [
      "Downloaded data para o ticker: BPAN4.SA ==> Shape: (4035, 9)\n",
      "Data saved to /home/marcelo/des/xpe_projeto_aplicado/data/stocks/BPAN4.SA.csv\n",
      "Downloading data para o ticker: BBSE3.SA ==> Max date: None\n"
     ]
    },
    {
     "name": "stderr",
     "output_type": "stream",
     "text": [
      "[*********************100%%**********************]  1 of 1 completed\n"
     ]
    },
    {
     "name": "stdout",
     "output_type": "stream",
     "text": [
      "Downloaded data para o ticker: BBSE3.SA ==> Shape: (2691, 9)\n",
      "Data saved to /home/marcelo/des/xpe_projeto_aplicado/data/stocks/BBSE3.SA.csv\n",
      "Downloading data para o ticker: BRML3.SA ==> Max date: None\n"
     ]
    },
    {
     "name": "stderr",
     "output_type": "stream",
     "text": [
      "[*********************100%%**********************]  1 of 1 completed\n",
      "\n",
      "1 Failed download:\n",
      "['BRML3.SA']: Exception('%ticker%: No timezone found, symbol may be delisted')\n"
     ]
    },
    {
     "name": "stdout",
     "output_type": "stream",
     "text": [
      "Downloading data para o ticker: BBDC3.SA ==> Max date: None\n"
     ]
    },
    {
     "name": "stderr",
     "output_type": "stream",
     "text": [
      "[*********************100%%**********************]  1 of 1 completed\n"
     ]
    },
    {
     "name": "stdout",
     "output_type": "stream",
     "text": [
      "Downloaded data para o ticker: BBDC3.SA ==> Shape: (6064, 9)\n",
      "Data saved to /home/marcelo/des/xpe_projeto_aplicado/data/stocks/BBDC3.SA.csv\n",
      "Downloading data para o ticker: BBDC4.SA ==> Max date: None\n"
     ]
    },
    {
     "name": "stderr",
     "output_type": "stream",
     "text": [
      "[*********************100%%**********************]  1 of 1 completed\n"
     ]
    },
    {
     "name": "stdout",
     "output_type": "stream",
     "text": [
      "Downloaded data para o ticker: BBDC4.SA ==> Shape: (4008, 9)\n",
      "Data saved to /home/marcelo/des/xpe_projeto_aplicado/data/stocks/BBDC4.SA.csv\n",
      "Downloading data para o ticker: BRAP4.SA ==> Max date: None\n"
     ]
    },
    {
     "name": "stderr",
     "output_type": "stream",
     "text": [
      "[*********************100%%**********************]  1 of 1 completed\n"
     ]
    },
    {
     "name": "stdout",
     "output_type": "stream",
     "text": [
      "Downloaded data para o ticker: BRAP4.SA ==> Shape: (6064, 9)\n",
      "Data saved to /home/marcelo/des/xpe_projeto_aplicado/data/stocks/BRAP4.SA.csv\n",
      "Downloading data para o ticker: BBAS3.SA ==> Max date: None\n"
     ]
    },
    {
     "name": "stderr",
     "output_type": "stream",
     "text": [
      "[*********************100%%**********************]  1 of 1 completed\n"
     ]
    },
    {
     "name": "stdout",
     "output_type": "stream",
     "text": [
      "Downloaded data para o ticker: BBAS3.SA ==> Shape: (6064, 9)\n",
      "Data saved to /home/marcelo/des/xpe_projeto_aplicado/data/stocks/BBAS3.SA.csv\n",
      "Downloading data para o ticker: BRKM5.SA ==> Max date: None\n"
     ]
    },
    {
     "name": "stderr",
     "output_type": "stream",
     "text": [
      "[*********************100%%**********************]  1 of 1 completed\n"
     ]
    },
    {
     "name": "stdout",
     "output_type": "stream",
     "text": [
      "Downloaded data para o ticker: BRKM5.SA ==> Shape: (6064, 9)\n",
      "Data saved to /home/marcelo/des/xpe_projeto_aplicado/data/stocks/BRKM5.SA.csv\n",
      "Downloading data para o ticker: BRFS3.SA ==> Max date: None\n"
     ]
    },
    {
     "name": "stderr",
     "output_type": "stream",
     "text": [
      "[*********************100%%**********************]  1 of 1 completed\n"
     ]
    },
    {
     "name": "stdout",
     "output_type": "stream",
     "text": [
      "Downloaded data para o ticker: BRFS3.SA ==> Shape: (6064, 9)\n",
      "Data saved to /home/marcelo/des/xpe_projeto_aplicado/data/stocks/BRFS3.SA.csv\n",
      "Downloading data para o ticker: BPAC11.SA ==> Max date: None\n"
     ]
    },
    {
     "name": "stderr",
     "output_type": "stream",
     "text": [
      "[*********************100%%**********************]  1 of 1 completed\n"
     ]
    },
    {
     "name": "stdout",
     "output_type": "stream",
     "text": [
      "Downloaded data para o ticker: BPAC11.SA ==> Shape: (1741, 9)\n",
      "Data saved to /home/marcelo/des/xpe_projeto_aplicado/data/stocks/BPAC11.SA.csv\n",
      "Downloading data para o ticker: CRFB3.SA ==> Max date: None\n"
     ]
    },
    {
     "name": "stderr",
     "output_type": "stream",
     "text": [
      "[*********************100%%**********************]  1 of 1 completed\n"
     ]
    },
    {
     "name": "stdout",
     "output_type": "stream",
     "text": [
      "Downloaded data para o ticker: CRFB3.SA ==> Shape: (1642, 9)\n",
      "Data saved to /home/marcelo/des/xpe_projeto_aplicado/data/stocks/CRFB3.SA.csv\n",
      "Downloading data para o ticker: CCRO3.SA ==> Max date: None\n"
     ]
    },
    {
     "name": "stderr",
     "output_type": "stream",
     "text": [
      "[*********************100%%**********************]  1 of 1 completed\n"
     ]
    },
    {
     "name": "stdout",
     "output_type": "stream",
     "text": [
      "Downloaded data para o ticker: CCRO3.SA ==> Shape: (5520, 9)\n",
      "Data saved to /home/marcelo/des/xpe_projeto_aplicado/data/stocks/CCRO3.SA.csv\n",
      "Downloading data para o ticker: CMIG4.SA ==> Max date: None\n"
     ]
    },
    {
     "name": "stderr",
     "output_type": "stream",
     "text": [
      "[*********************100%%**********************]  1 of 1 completed\n"
     ]
    },
    {
     "name": "stdout",
     "output_type": "stream",
     "text": [
      "Downloaded data para o ticker: CMIG4.SA ==> Shape: (6064, 9)\n",
      "Data saved to /home/marcelo/des/xpe_projeto_aplicado/data/stocks/CMIG4.SA.csv\n",
      "Downloading data para o ticker: CIEL3.SA ==> Max date: None\n"
     ]
    },
    {
     "name": "stderr",
     "output_type": "stream",
     "text": [
      "[*********************100%%**********************]  1 of 1 completed\n"
     ]
    },
    {
     "name": "stdout",
     "output_type": "stream",
     "text": [
      "Downloaded data para o ticker: CIEL3.SA ==> Shape: (3639, 9)\n",
      "Data saved to /home/marcelo/des/xpe_projeto_aplicado/data/stocks/CIEL3.SA.csv\n",
      "Downloading data para o ticker: COGN3.SA ==> Max date: None\n"
     ]
    },
    {
     "name": "stderr",
     "output_type": "stream",
     "text": [
      "[*********************100%%**********************]  1 of 1 completed\n"
     ]
    },
    {
     "name": "stdout",
     "output_type": "stream",
     "text": [
      "Downloaded data para o ticker: COGN3.SA ==> Shape: (2967, 9)\n",
      "Data saved to /home/marcelo/des/xpe_projeto_aplicado/data/stocks/COGN3.SA.csv\n",
      "Downloading data para o ticker: CPLE6.SA ==> Max date: None\n"
     ]
    },
    {
     "name": "stderr",
     "output_type": "stream",
     "text": [
      "[*********************100%%**********************]  1 of 1 completed\n"
     ]
    },
    {
     "name": "stdout",
     "output_type": "stream",
     "text": [
      "Downloaded data para o ticker: CPLE6.SA ==> Shape: (6064, 9)\n",
      "Data saved to /home/marcelo/des/xpe_projeto_aplicado/data/stocks/CPLE6.SA.csv\n",
      "Downloading data para o ticker: CSAN3.SA ==> Max date: None\n"
     ]
    },
    {
     "name": "stderr",
     "output_type": "stream",
     "text": [
      "[*********************100%%**********************]  1 of 1 completed\n"
     ]
    },
    {
     "name": "stdout",
     "output_type": "stream",
     "text": [
      "Downloaded data para o ticker: CSAN3.SA ==> Shape: (4541, 9)\n",
      "Data saved to /home/marcelo/des/xpe_projeto_aplicado/data/stocks/CSAN3.SA.csv\n",
      "Downloading data para o ticker: CPFE3.SA ==> Max date: None\n"
     ]
    },
    {
     "name": "stderr",
     "output_type": "stream",
     "text": [
      "[*********************100%%**********************]  1 of 1 completed\n"
     ]
    },
    {
     "name": "stdout",
     "output_type": "stream",
     "text": [
      "Downloaded data para o ticker: CPFE3.SA ==> Shape: (6064, 9)\n",
      "Data saved to /home/marcelo/des/xpe_projeto_aplicado/data/stocks/CPFE3.SA.csv\n",
      "Downloading data para o ticker: CMIN3.SA ==> Max date: None\n"
     ]
    },
    {
     "name": "stderr",
     "output_type": "stream",
     "text": [
      "[*********************100%%**********************]  1 of 1 completed\n"
     ]
    },
    {
     "name": "stdout",
     "output_type": "stream",
     "text": [
      "Downloaded data para o ticker: CMIN3.SA ==> Shape: (751, 9)\n",
      "Data saved to /home/marcelo/des/xpe_projeto_aplicado/data/stocks/CMIN3.SA.csv\n",
      "Downloading data para o ticker: CVCB3.SA ==> Max date: None\n"
     ]
    },
    {
     "name": "stderr",
     "output_type": "stream",
     "text": [
      "[*********************100%%**********************]  1 of 1 completed\n"
     ]
    },
    {
     "name": "stdout",
     "output_type": "stream",
     "text": [
      "Downloaded data para o ticker: CVCB3.SA ==> Shape: (2536, 9)\n",
      "Data saved to /home/marcelo/des/xpe_projeto_aplicado/data/stocks/CVCB3.SA.csv\n",
      "Downloading data para o ticker: CYRE3.SA ==> Max date: None\n"
     ]
    },
    {
     "name": "stderr",
     "output_type": "stream",
     "text": [
      "[*********************100%%**********************]  1 of 1 completed\n"
     ]
    },
    {
     "name": "stdout",
     "output_type": "stream",
     "text": [
      "Downloaded data para o ticker: CYRE3.SA ==> Shape: (6064, 9)\n",
      "Data saved to /home/marcelo/des/xpe_projeto_aplicado/data/stocks/CYRE3.SA.csv\n",
      "Downloading data para o ticker: DXCO3.SA ==> Max date: None\n"
     ]
    },
    {
     "name": "stderr",
     "output_type": "stream",
     "text": [
      "[*********************100%%**********************]  1 of 1 completed\n"
     ]
    },
    {
     "name": "stdout",
     "output_type": "stream",
     "text": [
      "Downloaded data para o ticker: DXCO3.SA ==> Shape: (4073, 9)\n",
      "Data saved to /home/marcelo/des/xpe_projeto_aplicado/data/stocks/DXCO3.SA.csv\n",
      "Downloading data para o ticker: ECOR3.SA ==> Max date: None\n"
     ]
    },
    {
     "name": "stderr",
     "output_type": "stream",
     "text": [
      "[*********************100%%**********************]  1 of 1 completed\n"
     ]
    },
    {
     "name": "stdout",
     "output_type": "stream",
     "text": [
      "Downloaded data para o ticker: ECOR3.SA ==> Shape: (3451, 9)\n",
      "Data saved to /home/marcelo/des/xpe_projeto_aplicado/data/stocks/ECOR3.SA.csv\n",
      "Downloading data para o ticker: ELET3.SA ==> Max date: None\n"
     ]
    },
    {
     "name": "stderr",
     "output_type": "stream",
     "text": [
      "[*********************100%%**********************]  1 of 1 completed\n"
     ]
    },
    {
     "name": "stdout",
     "output_type": "stream",
     "text": [
      "Downloaded data para o ticker: ELET3.SA ==> Shape: (6064, 9)\n",
      "Data saved to /home/marcelo/des/xpe_projeto_aplicado/data/stocks/ELET3.SA.csv\n",
      "Downloading data para o ticker: ELET6.SA ==> Max date: None\n"
     ]
    },
    {
     "name": "stderr",
     "output_type": "stream",
     "text": [
      "[*********************100%%**********************]  1 of 1 completed\n"
     ]
    },
    {
     "name": "stdout",
     "output_type": "stream",
     "text": [
      "Downloaded data para o ticker: ELET6.SA ==> Shape: (4008, 9)\n",
      "Data saved to /home/marcelo/des/xpe_projeto_aplicado/data/stocks/ELET6.SA.csv\n",
      "Downloading data para o ticker: EMBR3.SA ==> Max date: None\n"
     ]
    },
    {
     "name": "stderr",
     "output_type": "stream",
     "text": [
      "[*********************100%%**********************]  1 of 1 completed\n"
     ]
    },
    {
     "name": "stdout",
     "output_type": "stream",
     "text": [
      "Downloaded data para o ticker: EMBR3.SA ==> Shape: (6064, 9)\n",
      "Data saved to /home/marcelo/des/xpe_projeto_aplicado/data/stocks/EMBR3.SA.csv\n",
      "Downloading data para o ticker: ENBR3.SA ==> Max date: None\n"
     ]
    },
    {
     "name": "stderr",
     "output_type": "stream",
     "text": [
      "[*********************100%%**********************]  1 of 1 completed\n",
      "\n",
      "1 Failed download:\n",
      "['ENBR3.SA']: Exception('%ticker%: No timezone found, symbol may be delisted')\n"
     ]
    },
    {
     "name": "stdout",
     "output_type": "stream",
     "text": [
      "Downloading data para o ticker: ENGI11.SA ==> Max date: None\n"
     ]
    },
    {
     "name": "stderr",
     "output_type": "stream",
     "text": [
      "[*********************100%%**********************]  1 of 1 completed\n"
     ]
    },
    {
     "name": "stdout",
     "output_type": "stream",
     "text": [
      "Downloaded data para o ticker: ENGI11.SA ==> Shape: (3551, 9)\n",
      "Data saved to /home/marcelo/des/xpe_projeto_aplicado/data/stocks/ENGI11.SA.csv\n",
      "Downloading data para o ticker: ENEV3.SA ==> Max date: None\n"
     ]
    },
    {
     "name": "stderr",
     "output_type": "stream",
     "text": [
      "[*********************100%%**********************]  1 of 1 completed\n"
     ]
    },
    {
     "name": "stdout",
     "output_type": "stream",
     "text": [
      "Downloaded data para o ticker: ENEV3.SA ==> Shape: (4017, 9)\n",
      "Data saved to /home/marcelo/des/xpe_projeto_aplicado/data/stocks/ENEV3.SA.csv\n",
      "Downloading data para o ticker: EGIE3.SA ==> Max date: None\n"
     ]
    },
    {
     "name": "stderr",
     "output_type": "stream",
     "text": [
      "[*********************100%%**********************]  1 of 1 completed\n"
     ]
    },
    {
     "name": "stdout",
     "output_type": "stream",
     "text": [
      "Downloaded data para o ticker: EGIE3.SA ==> Shape: (5500, 9)\n",
      "Data saved to /home/marcelo/des/xpe_projeto_aplicado/data/stocks/EGIE3.SA.csv\n",
      "Downloading data para o ticker: EQTL3.SA ==> Max date: None\n"
     ]
    },
    {
     "name": "stderr",
     "output_type": "stream",
     "text": [
      "[*********************100%%**********************]  1 of 1 completed\n"
     ]
    },
    {
     "name": "stdout",
     "output_type": "stream",
     "text": [
      "Downloaded data para o ticker: EQTL3.SA ==> Shape: (3944, 9)\n",
      "Data saved to /home/marcelo/des/xpe_projeto_aplicado/data/stocks/EQTL3.SA.csv\n",
      "Downloading data para o ticker: EZTC3.SA ==> Max date: None\n"
     ]
    },
    {
     "name": "stderr",
     "output_type": "stream",
     "text": [
      "[*********************100%%**********************]  1 of 1 completed\n"
     ]
    },
    {
     "name": "stdout",
     "output_type": "stream",
     "text": [
      "Downloaded data para o ticker: EZTC3.SA ==> Shape: (4136, 9)\n",
      "Data saved to /home/marcelo/des/xpe_projeto_aplicado/data/stocks/EZTC3.SA.csv\n",
      "Downloading data para o ticker: FLRY3.SA ==> Max date: None\n"
     ]
    },
    {
     "name": "stderr",
     "output_type": "stream",
     "text": [
      "[*********************100%%**********************]  1 of 1 completed\n"
     ]
    },
    {
     "name": "stdout",
     "output_type": "stream",
     "text": [
      "Downloaded data para o ticker: FLRY3.SA ==> Shape: (3520, 9)\n",
      "Data saved to /home/marcelo/des/xpe_projeto_aplicado/data/stocks/FLRY3.SA.csv\n",
      "Downloading data para o ticker: GGBR4.SA ==> Max date: None\n"
     ]
    },
    {
     "name": "stderr",
     "output_type": "stream",
     "text": [
      "[*********************100%%**********************]  1 of 1 completed\n"
     ]
    },
    {
     "name": "stdout",
     "output_type": "stream",
     "text": [
      "Downloaded data para o ticker: GGBR4.SA ==> Shape: (6064, 9)\n",
      "Data saved to /home/marcelo/des/xpe_projeto_aplicado/data/stocks/GGBR4.SA.csv\n",
      "Downloading data para o ticker: GOAU4.SA ==> Max date: None\n"
     ]
    },
    {
     "name": "stderr",
     "output_type": "stream",
     "text": [
      "[*********************100%%**********************]  1 of 1 completed\n"
     ]
    },
    {
     "name": "stdout",
     "output_type": "stream",
     "text": [
      "Downloaded data para o ticker: GOAU4.SA ==> Shape: (6064, 9)\n",
      "Data saved to /home/marcelo/des/xpe_projeto_aplicado/data/stocks/GOAU4.SA.csv\n",
      "Downloading data para o ticker: GOLL4.SA ==> Max date: None\n"
     ]
    },
    {
     "name": "stderr",
     "output_type": "stream",
     "text": [
      "[*********************100%%**********************]  1 of 1 completed\n"
     ]
    },
    {
     "name": "stdout",
     "output_type": "stream",
     "text": [
      "Downloaded data para o ticker: GOLL4.SA ==> Shape: (4896, 9)\n",
      "Data saved to /home/marcelo/des/xpe_projeto_aplicado/data/stocks/GOLL4.SA.csv\n",
      "Downloading data para o ticker: NTCO3.SA ==> Max date: None\n"
     ]
    },
    {
     "name": "stderr",
     "output_type": "stream",
     "text": [
      "[*********************100%%**********************]  1 of 1 completed\n"
     ]
    },
    {
     "name": "stdout",
     "output_type": "stream",
     "text": [
      "Downloaded data para o ticker: NTCO3.SA ==> Shape: (1038, 9)\n",
      "Data saved to /home/marcelo/des/xpe_projeto_aplicado/data/stocks/NTCO3.SA.csv\n",
      "Downloading data para o ticker: SOMA3.SA ==> Max date: None\n"
     ]
    },
    {
     "name": "stderr",
     "output_type": "stream",
     "text": [
      "[*********************100%%**********************]  1 of 1 completed\n"
     ]
    },
    {
     "name": "stdout",
     "output_type": "stream",
     "text": [
      "Downloaded data para o ticker: SOMA3.SA ==> Shape: (886, 9)\n",
      "Data saved to /home/marcelo/des/xpe_projeto_aplicado/data/stocks/SOMA3.SA.csv\n",
      "Downloading data para o ticker: HAPV3.SA ==> Max date: None\n"
     ]
    },
    {
     "name": "stderr",
     "output_type": "stream",
     "text": [
      "[*********************100%%**********************]  1 of 1 completed\n"
     ]
    },
    {
     "name": "stdout",
     "output_type": "stream",
     "text": [
      "Downloaded data para o ticker: HAPV3.SA ==> Shape: (1446, 9)\n",
      "Data saved to /home/marcelo/des/xpe_projeto_aplicado/data/stocks/HAPV3.SA.csv\n",
      "Downloading data para o ticker: HYPE3.SA ==> Max date: None\n"
     ]
    },
    {
     "name": "stderr",
     "output_type": "stream",
     "text": [
      "[*********************100%%**********************]  1 of 1 completed\n"
     ]
    },
    {
     "name": "stdout",
     "output_type": "stream",
     "text": [
      "Downloaded data para o ticker: HYPE3.SA ==> Shape: (3935, 9)\n",
      "Data saved to /home/marcelo/des/xpe_projeto_aplicado/data/stocks/HYPE3.SA.csv\n",
      "Downloading data para o ticker: IGTI11.SA ==> Max date: None\n"
     ]
    },
    {
     "name": "stderr",
     "output_type": "stream",
     "text": [
      "[*********************100%%**********************]  1 of 1 completed\n"
     ]
    },
    {
     "name": "stdout",
     "output_type": "stream",
     "text": [
      "Downloaded data para o ticker: IGTI11.SA ==> Shape: (564, 9)\n",
      "Data saved to /home/marcelo/des/xpe_projeto_aplicado/data/stocks/IGTI11.SA.csv\n",
      "Downloading data para o ticker: ITSA4.SA ==> Max date: None\n"
     ]
    },
    {
     "name": "stderr",
     "output_type": "stream",
     "text": [
      "[*********************100%%**********************]  1 of 1 completed\n"
     ]
    },
    {
     "name": "stdout",
     "output_type": "stream",
     "text": [
      "Downloaded data para o ticker: ITSA4.SA ==> Shape: (6064, 9)\n",
      "Data saved to /home/marcelo/des/xpe_projeto_aplicado/data/stocks/ITSA4.SA.csv\n",
      "Downloading data para o ticker: ITUB4.SA ==> Max date: None\n"
     ]
    },
    {
     "name": "stderr",
     "output_type": "stream",
     "text": [
      "[*********************100%%**********************]  1 of 1 completed\n"
     ]
    },
    {
     "name": "stdout",
     "output_type": "stream",
     "text": [
      "Downloaded data para o ticker: ITUB4.SA ==> Shape: (5811, 9)\n",
      "Data saved to /home/marcelo/des/xpe_projeto_aplicado/data/stocks/ITUB4.SA.csv\n",
      "Downloading data para o ticker: JBSS3.SA ==> Max date: None\n"
     ]
    },
    {
     "name": "stderr",
     "output_type": "stream",
     "text": [
      "[*********************100%%**********************]  1 of 1 completed\n"
     ]
    },
    {
     "name": "stdout",
     "output_type": "stream",
     "text": [
      "Downloaded data para o ticker: JBSS3.SA ==> Shape: (4194, 9)\n",
      "Data saved to /home/marcelo/des/xpe_projeto_aplicado/data/stocks/JBSS3.SA.csv\n",
      "Downloading data para o ticker: KLBN11.SA ==> Max date: None\n"
     ]
    },
    {
     "name": "stderr",
     "output_type": "stream",
     "text": [
      "[*********************100%%**********************]  1 of 1 completed\n"
     ]
    },
    {
     "name": "stdout",
     "output_type": "stream",
     "text": [
      "Downloaded data para o ticker: KLBN11.SA ==> Shape: (2507, 9)\n",
      "Data saved to /home/marcelo/des/xpe_projeto_aplicado/data/stocks/KLBN11.SA.csv\n",
      "Downloading data para o ticker: RENT3.SA ==> Max date: None\n"
     ]
    },
    {
     "name": "stderr",
     "output_type": "stream",
     "text": [
      "[*********************100%%**********************]  1 of 1 completed\n"
     ]
    },
    {
     "name": "stdout",
     "output_type": "stream",
     "text": [
      "Downloaded data para o ticker: RENT3.SA ==> Shape: (4665, 9)\n",
      "Data saved to /home/marcelo/des/xpe_projeto_aplicado/data/stocks/RENT3.SA.csv\n",
      "Downloading data para o ticker: LWSA3.SA ==> Max date: None\n"
     ]
    },
    {
     "name": "stderr",
     "output_type": "stream",
     "text": [
      "[*********************100%%**********************]  1 of 1 completed\n"
     ]
    },
    {
     "name": "stdout",
     "output_type": "stream",
     "text": [
      "Downloaded data para o ticker: LWSA3.SA ==> Shape: (1006, 9)\n",
      "Data saved to /home/marcelo/des/xpe_projeto_aplicado/data/stocks/LWSA3.SA.csv\n",
      "Downloading data para o ticker: LREN3.SA ==> Max date: None\n"
     ]
    },
    {
     "name": "stderr",
     "output_type": "stream",
     "text": [
      "[*********************100%%**********************]  1 of 1 completed\n"
     ]
    },
    {
     "name": "stdout",
     "output_type": "stream",
     "text": [
      "Downloaded data para o ticker: LREN3.SA ==> Shape: (6063, 9)\n",
      "Data saved to /home/marcelo/des/xpe_projeto_aplicado/data/stocks/LREN3.SA.csv\n",
      "Downloading data para o ticker: MGLU3.SA ==> Max date: None\n"
     ]
    },
    {
     "name": "stderr",
     "output_type": "stream",
     "text": [
      "[*********************100%%**********************]  1 of 1 completed\n"
     ]
    },
    {
     "name": "stdout",
     "output_type": "stream",
     "text": [
      "Downloaded data para o ticker: MGLU3.SA ==> Shape: (3184, 9)\n",
      "Data saved to /home/marcelo/des/xpe_projeto_aplicado/data/stocks/MGLU3.SA.csv\n",
      "Downloading data para o ticker: MRFG3.SA ==> Max date: None\n"
     ]
    },
    {
     "name": "stderr",
     "output_type": "stream",
     "text": [
      "[*********************100%%**********************]  1 of 1 completed\n"
     ]
    },
    {
     "name": "stdout",
     "output_type": "stream",
     "text": [
      "Downloaded data para o ticker: MRFG3.SA ==> Shape: (4131, 9)\n",
      "Data saved to /home/marcelo/des/xpe_projeto_aplicado/data/stocks/MRFG3.SA.csv\n",
      "Downloading data para o ticker: CASH3.SA ==> Max date: None\n"
     ]
    },
    {
     "name": "stderr",
     "output_type": "stream",
     "text": [
      "[*********************100%%**********************]  1 of 1 completed\n"
     ]
    },
    {
     "name": "stdout",
     "output_type": "stream",
     "text": [
      "Downloaded data para o ticker: CASH3.SA ==> Shape: (818, 9)\n",
      "Data saved to /home/marcelo/des/xpe_projeto_aplicado/data/stocks/CASH3.SA.csv\n",
      "Downloading data para o ticker: BEEF3.SA ==> Max date: None\n"
     ]
    },
    {
     "name": "stderr",
     "output_type": "stream",
     "text": [
      "[*********************100%%**********************]  1 of 1 completed\n"
     ]
    },
    {
     "name": "stdout",
     "output_type": "stream",
     "text": [
      "Downloaded data para o ticker: BEEF3.SA ==> Shape: (4117, 9)\n",
      "Data saved to /home/marcelo/des/xpe_projeto_aplicado/data/stocks/BEEF3.SA.csv\n",
      "Downloading data para o ticker: MRVE3.SA ==> Max date: None\n"
     ]
    },
    {
     "name": "stderr",
     "output_type": "stream",
     "text": [
      "[*********************100%%**********************]  1 of 1 completed\n"
     ]
    },
    {
     "name": "stdout",
     "output_type": "stream",
     "text": [
      "Downloaded data para o ticker: MRVE3.SA ==> Shape: (4116, 9)\n",
      "Data saved to /home/marcelo/des/xpe_projeto_aplicado/data/stocks/MRVE3.SA.csv\n",
      "Downloading data para o ticker: MULT3.SA ==> Max date: None\n"
     ]
    },
    {
     "name": "stderr",
     "output_type": "stream",
     "text": [
      "[*********************100%%**********************]  1 of 1 completed\n"
     ]
    },
    {
     "name": "stdout",
     "output_type": "stream",
     "text": [
      "Downloaded data para o ticker: MULT3.SA ==> Shape: (4112, 9)\n",
      "Data saved to /home/marcelo/des/xpe_projeto_aplicado/data/stocks/MULT3.SA.csv\n",
      "Downloading data para o ticker: PCAR3.SA ==> Max date: None\n"
     ]
    },
    {
     "name": "stderr",
     "output_type": "stream",
     "text": [
      "[*********************100%%**********************]  1 of 1 completed\n"
     ]
    },
    {
     "name": "stdout",
     "output_type": "stream",
     "text": [
      "Downloaded data para o ticker: PCAR3.SA ==> Shape: (5959, 9)\n",
      "Data saved to /home/marcelo/des/xpe_projeto_aplicado/data/stocks/PCAR3.SA.csv\n",
      "Downloading data para o ticker: PETR3.SA ==> Max date: None\n"
     ]
    },
    {
     "name": "stderr",
     "output_type": "stream",
     "text": [
      "[*********************100%%**********************]  1 of 1 completed\n"
     ]
    },
    {
     "name": "stdout",
     "output_type": "stream",
     "text": [
      "Downloaded data para o ticker: PETR3.SA ==> Shape: (6064, 9)\n",
      "Data saved to /home/marcelo/des/xpe_projeto_aplicado/data/stocks/PETR3.SA.csv\n",
      "Downloading data para o ticker: PETR4.SA ==> Max date: None\n"
     ]
    },
    {
     "name": "stderr",
     "output_type": "stream",
     "text": [
      "[*********************100%%**********************]  1 of 1 completed\n"
     ]
    },
    {
     "name": "stdout",
     "output_type": "stream",
     "text": [
      "Downloaded data para o ticker: PETR4.SA ==> Shape: (6064, 9)\n",
      "Data saved to /home/marcelo/des/xpe_projeto_aplicado/data/stocks/PETR4.SA.csv\n",
      "Downloading data para o ticker: PRIO3.SA ==> Max date: None\n"
     ]
    },
    {
     "name": "stderr",
     "output_type": "stream",
     "text": [
      "[*********************100%%**********************]  1 of 1 completed\n"
     ]
    },
    {
     "name": "stdout",
     "output_type": "stream",
     "text": [
      "Downloaded data para o ticker: PRIO3.SA ==> Shape: (3310, 9)\n",
      "Data saved to /home/marcelo/des/xpe_projeto_aplicado/data/stocks/PRIO3.SA.csv\n",
      "Downloading data para o ticker: PETZ3.SA ==> Max date: None\n"
     ]
    },
    {
     "name": "stderr",
     "output_type": "stream",
     "text": [
      "[*********************100%%**********************]  1 of 1 completed\n"
     ]
    },
    {
     "name": "stdout",
     "output_type": "stream",
     "text": [
      "Downloaded data para o ticker: PETZ3.SA ==> Shape: (855, 9)\n",
      "Data saved to /home/marcelo/des/xpe_projeto_aplicado/data/stocks/PETZ3.SA.csv\n",
      "Downloading data para o ticker: QUAL3.SA ==> Max date: None\n"
     ]
    },
    {
     "name": "stderr",
     "output_type": "stream",
     "text": [
      "[*********************100%%**********************]  1 of 1 completed\n"
     ]
    },
    {
     "name": "stdout",
     "output_type": "stream",
     "text": [
      "Downloaded data para o ticker: QUAL3.SA ==> Shape: (3143, 9)\n",
      "Data saved to /home/marcelo/des/xpe_projeto_aplicado/data/stocks/QUAL3.SA.csv\n",
      "Downloading data para o ticker: RADL3.SA ==> Max date: None\n"
     ]
    },
    {
     "name": "stderr",
     "output_type": "stream",
     "text": [
      "[*********************100%%**********************]  1 of 1 completed\n"
     ]
    },
    {
     "name": "stdout",
     "output_type": "stream",
     "text": [
      "Downloaded data para o ticker: RADL3.SA ==> Shape: (6061, 9)\n",
      "Data saved to /home/marcelo/des/xpe_projeto_aplicado/data/stocks/RADL3.SA.csv\n",
      "Downloading data para o ticker: RAIZ4.SA ==> Max date: None\n"
     ]
    },
    {
     "name": "stderr",
     "output_type": "stream",
     "text": [
      "[*********************100%%**********************]  1 of 1 completed\n"
     ]
    },
    {
     "name": "stdout",
     "output_type": "stream",
     "text": [
      "Downloaded data para o ticker: RAIZ4.SA ==> Shape: (637, 9)\n",
      "Data saved to /home/marcelo/des/xpe_projeto_aplicado/data/stocks/RAIZ4.SA.csv\n",
      "Downloading data para o ticker: RDOR3.SA ==> Max date: None\n"
     ]
    },
    {
     "name": "stderr",
     "output_type": "stream",
     "text": [
      "[*********************100%%**********************]  1 of 1 completed\n"
     ]
    },
    {
     "name": "stdout",
     "output_type": "stream",
     "text": [
      "Downloaded data para o ticker: RDOR3.SA ==> Shape: (793, 9)\n",
      "Data saved to /home/marcelo/des/xpe_projeto_aplicado/data/stocks/RDOR3.SA.csv\n",
      "Downloading data para o ticker: RAIL3.SA ==> Max date: None\n"
     ]
    },
    {
     "name": "stderr",
     "output_type": "stream",
     "text": [
      "[*********************100%%**********************]  1 of 1 completed\n"
     ]
    },
    {
     "name": "stdout",
     "output_type": "stream",
     "text": [
      "Downloaded data para o ticker: RAIL3.SA ==> Shape: (2212, 9)\n",
      "Data saved to /home/marcelo/des/xpe_projeto_aplicado/data/stocks/RAIL3.SA.csv\n",
      "Downloading data para o ticker: SBSP3.SA ==> Max date: None\n"
     ]
    },
    {
     "name": "stderr",
     "output_type": "stream",
     "text": [
      "[*********************100%%**********************]  1 of 1 completed\n"
     ]
    },
    {
     "name": "stdout",
     "output_type": "stream",
     "text": [
      "Downloaded data para o ticker: SBSP3.SA ==> Shape: (6064, 9)\n",
      "Data saved to /home/marcelo/des/xpe_projeto_aplicado/data/stocks/SBSP3.SA.csv\n",
      "Downloading data para o ticker: SANB11.SA ==> Max date: None\n"
     ]
    },
    {
     "name": "stderr",
     "output_type": "stream",
     "text": [
      "[*********************100%%**********************]  1 of 1 completed\n"
     ]
    },
    {
     "name": "stdout",
     "output_type": "stream",
     "text": [
      "Downloaded data para o ticker: SANB11.SA ==> Shape: (3568, 9)\n",
      "Data saved to /home/marcelo/des/xpe_projeto_aplicado/data/stocks/SANB11.SA.csv\n",
      "Downloading data para o ticker: SMTO3.SA ==> Max date: None\n"
     ]
    },
    {
     "name": "stderr",
     "output_type": "stream",
     "text": [
      "[*********************100%%**********************]  1 of 1 completed\n"
     ]
    },
    {
     "name": "stdout",
     "output_type": "stream",
     "text": [
      "Downloaded data para o ticker: SMTO3.SA ==> Shape: (4225, 9)\n",
      "Data saved to /home/marcelo/des/xpe_projeto_aplicado/data/stocks/SMTO3.SA.csv\n",
      "Downloading data para o ticker: CSNA3.SA ==> Max date: None\n"
     ]
    },
    {
     "name": "stderr",
     "output_type": "stream",
     "text": [
      "[*********************100%%**********************]  1 of 1 completed\n"
     ]
    },
    {
     "name": "stdout",
     "output_type": "stream",
     "text": [
      "Downloaded data para o ticker: CSNA3.SA ==> Shape: (6064, 9)\n",
      "Data saved to /home/marcelo/des/xpe_projeto_aplicado/data/stocks/CSNA3.SA.csv\n",
      "Downloading data para o ticker: SLCE3.SA ==> Max date: None\n"
     ]
    },
    {
     "name": "stderr",
     "output_type": "stream",
     "text": [
      "[*********************100%%**********************]  1 of 1 completed\n"
     ]
    },
    {
     "name": "stdout",
     "output_type": "stream",
     "text": [
      "Downloaded data para o ticker: SLCE3.SA ==> Shape: (4141, 9)\n",
      "Data saved to /home/marcelo/des/xpe_projeto_aplicado/data/stocks/SLCE3.SA.csv\n",
      "Downloading data para o ticker: SUZB3.SA ==> Max date: None\n"
     ]
    },
    {
     "name": "stderr",
     "output_type": "stream",
     "text": [
      "[*********************100%%**********************]  1 of 1 completed\n"
     ]
    },
    {
     "name": "stdout",
     "output_type": "stream",
     "text": [
      "Downloaded data para o ticker: SUZB3.SA ==> Shape: (4866, 9)\n",
      "Data saved to /home/marcelo/des/xpe_projeto_aplicado/data/stocks/SUZB3.SA.csv\n",
      "Downloading data para o ticker: TAEE11.SA ==> Max date: None\n"
     ]
    },
    {
     "name": "stderr",
     "output_type": "stream",
     "text": [
      "[*********************100%%**********************]  1 of 1 completed\n"
     ]
    },
    {
     "name": "stdout",
     "output_type": "stream",
     "text": [
      "Downloaded data para o ticker: TAEE11.SA ==> Shape: (4038, 9)\n",
      "Data saved to /home/marcelo/des/xpe_projeto_aplicado/data/stocks/TAEE11.SA.csv\n",
      "Downloading data para o ticker: VIVT3.SA ==> Max date: None\n"
     ]
    },
    {
     "name": "stderr",
     "output_type": "stream",
     "text": [
      "[*********************100%%**********************]  1 of 1 completed\n"
     ]
    },
    {
     "name": "stdout",
     "output_type": "stream",
     "text": [
      "Downloaded data para o ticker: VIVT3.SA ==> Shape: (6064, 9)\n",
      "Data saved to /home/marcelo/des/xpe_projeto_aplicado/data/stocks/VIVT3.SA.csv\n",
      "Downloading data para o ticker: TIMS3.SA ==> Max date: None\n"
     ]
    },
    {
     "name": "stderr",
     "output_type": "stream",
     "text": [
      "[*********************100%%**********************]  1 of 1 completed\n"
     ]
    },
    {
     "name": "stdout",
     "output_type": "stream",
     "text": [
      "Downloaded data para o ticker: TIMS3.SA ==> Shape: (4632, 9)\n",
      "Data saved to /home/marcelo/des/xpe_projeto_aplicado/data/stocks/TIMS3.SA.csv\n",
      "Downloading data para o ticker: TOTS3.SA ==> Max date: None\n"
     ]
    },
    {
     "name": "stderr",
     "output_type": "stream",
     "text": [
      "[*********************100%%**********************]  1 of 1 completed\n"
     ]
    },
    {
     "name": "stdout",
     "output_type": "stream",
     "text": [
      "Downloaded data para o ticker: TOTS3.SA ==> Shape: (4463, 9)\n",
      "Data saved to /home/marcelo/des/xpe_projeto_aplicado/data/stocks/TOTS3.SA.csv\n",
      "Downloading data para o ticker: UGPA3.SA ==> Max date: None\n"
     ]
    },
    {
     "name": "stderr",
     "output_type": "stream",
     "text": [
      "[*********************100%%**********************]  1 of 1 completed\n"
     ]
    },
    {
     "name": "stdout",
     "output_type": "stream",
     "text": [
      "Downloaded data para o ticker: UGPA3.SA ==> Shape: (5297, 9)\n",
      "Data saved to /home/marcelo/des/xpe_projeto_aplicado/data/stocks/UGPA3.SA.csv\n",
      "Downloading data para o ticker: USIM5.SA ==> Max date: None\n"
     ]
    },
    {
     "name": "stderr",
     "output_type": "stream",
     "text": [
      "[*********************100%%**********************]  1 of 1 completed\n"
     ]
    },
    {
     "name": "stdout",
     "output_type": "stream",
     "text": [
      "Downloaded data para o ticker: USIM5.SA ==> Shape: (6064, 9)\n",
      "Data saved to /home/marcelo/des/xpe_projeto_aplicado/data/stocks/USIM5.SA.csv\n",
      "Downloading data para o ticker: VALE3.SA ==> Max date: None\n"
     ]
    },
    {
     "name": "stderr",
     "output_type": "stream",
     "text": [
      "[*********************100%%**********************]  1 of 1 completed\n"
     ]
    },
    {
     "name": "stdout",
     "output_type": "stream",
     "text": [
      "Downloaded data para o ticker: VALE3.SA ==> Shape: (6064, 9)\n",
      "Data saved to /home/marcelo/des/xpe_projeto_aplicado/data/stocks/VALE3.SA.csv\n",
      "Downloading data para o ticker: VIIA3.SA ==> Max date: None\n"
     ]
    },
    {
     "name": "stderr",
     "output_type": "stream",
     "text": [
      "[*********************100%%**********************]  1 of 1 completed\n",
      "\n",
      "1 Failed download:\n",
      "['VIIA3.SA']: Exception('%ticker%: No timezone found, symbol may be delisted')\n"
     ]
    },
    {
     "name": "stdout",
     "output_type": "stream",
     "text": [
      "Downloading data para o ticker: VBBR3.SA ==> Max date: None\n"
     ]
    },
    {
     "name": "stderr",
     "output_type": "stream",
     "text": [
      "[*********************100%%**********************]  1 of 1 completed\n"
     ]
    },
    {
     "name": "stdout",
     "output_type": "stream",
     "text": [
      "Downloaded data para o ticker: VBBR3.SA ==> Shape: (1476, 9)\n",
      "Data saved to /home/marcelo/des/xpe_projeto_aplicado/data/stocks/VBBR3.SA.csv\n",
      "Downloading data para o ticker: WEGE3.SA ==> Max date: None\n"
     ]
    },
    {
     "name": "stderr",
     "output_type": "stream",
     "text": [
      "[*********************100%%**********************]  1 of 1 completed\n"
     ]
    },
    {
     "name": "stdout",
     "output_type": "stream",
     "text": [
      "Downloaded data para o ticker: WEGE3.SA ==> Shape: (6064, 9)\n",
      "Data saved to /home/marcelo/des/xpe_projeto_aplicado/data/stocks/WEGE3.SA.csv\n",
      "Downloading data para o ticker: YDUQ3.SA ==> Max date: None\n"
     ]
    },
    {
     "name": "stderr",
     "output_type": "stream",
     "text": [
      "[*********************100%%**********************]  1 of 1 completed"
     ]
    },
    {
     "name": "stdout",
     "output_type": "stream",
     "text": [
      "Downloaded data para o ticker: YDUQ3.SA ==> Shape: (3879, 9)\n",
      "Data saved to /home/marcelo/des/xpe_projeto_aplicado/data/stocks/YDUQ3.SA.csv\n"
     ]
    },
    {
     "name": "stderr",
     "output_type": "stream",
     "text": [
      "\n"
     ]
    }
   ],
   "source": [
    "# Exception('%ticker%: 1h data not available for startTime=1304341200 and endTime=1701373401. The requested range must be within the last 730 days.')\n",
    "start_date = (datetime.now() - timedelta(days=729)).strftime('%Y-%m-%d') \n",
    "print(f'Start Date: {start_date}')\n",
    "\n",
    "utils.download_data(df_tickers['ticker'].to_list(), start_date=None, ticker_type='stock')"
   ]
  },
  {
   "cell_type": "code",
   "execution_count": 4,
   "metadata": {},
   "outputs": [],
   "source": [
    "# A título de amostragem, não iremos demonstrar o calculo com Tickers do tipo FII's - Fundo de Investimentos Imobilia\n",
    "# Para fazer, basta descomentar as duas células à seguir:\n",
    "\n",
    "#df_tickers = utils.get_tickers_fiis() # Fundos de Investimentos Imobiliários\n",
    "#df_tickers"
   ]
  },
  {
   "cell_type": "code",
   "execution_count": 5,
   "metadata": {},
   "outputs": [],
   "source": [
    "# Exception('%ticker%: 1h data not available for startTime=1304341200 and endTime=1701373401. The requested range must be within the last 730 days.')\n",
    "#start_date = (datetime.now() - timedelta(days=729)).strftime('%Y-%m-%d') \n",
    "#print(f'Start Date: {start_date}')\n",
    "\n",
    "#utils.download_data(df_tickers['ticker'].to_list(), ticker_type='fii')"
   ]
  }
 ],
 "metadata": {
  "kernelspec": {
   "display_name": ".env",
   "language": "python",
   "name": "python3"
  },
  "language_info": {
   "codemirror_mode": {
    "name": "ipython",
    "version": 3
   },
   "file_extension": ".py",
   "mimetype": "text/x-python",
   "name": "python",
   "nbconvert_exporter": "python",
   "pygments_lexer": "ipython3",
   "version": "3.10.13"
  }
 },
 "nbformat": 4,
 "nbformat_minor": 2
}
